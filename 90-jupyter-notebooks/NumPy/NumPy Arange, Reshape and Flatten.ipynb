{
 "cells": [
  {
   "cell_type": "code",
   "execution_count": 1,
   "id": "5915817c-91bd-4b78-814e-452684e5472c",
   "metadata": {},
   "outputs": [],
   "source": [
    "import numpy as np"
   ]
  },
  {
   "cell_type": "code",
   "execution_count": 2,
   "id": "0c34011f-9f96-49ef-b971-3057211bbb16",
   "metadata": {},
   "outputs": [
    {
     "data": {
      "text/plain": [
       "array([0, 1, 2, 3, 4, 5, 6])"
      ]
     },
     "execution_count": 2,
     "metadata": {},
     "output_type": "execute_result"
    }
   ],
   "source": [
    "np.arange(7)"
   ]
  },
  {
   "cell_type": "code",
   "execution_count": 3,
   "id": "727e19af-4086-4d00-a3b5-a8fb652eda59",
   "metadata": {},
   "outputs": [
    {
     "data": {
      "text/plain": [
       "array([10, 11, 12, 13, 14])"
      ]
     },
     "execution_count": 3,
     "metadata": {},
     "output_type": "execute_result"
    }
   ],
   "source": [
    "np.arange(10, 15)"
   ]
  },
  {
   "cell_type": "code",
   "execution_count": null,
   "id": "5be4cfdc-c687-474c-86d9-417857576655",
   "metadata": {},
   "outputs": [],
   "source": [
    "np.arange(2, 10, 3)"
   ]
  },
  {
   "cell_type": "code",
   "execution_count": null,
   "id": "58a6b736-a512-4dde-b792-68d4419cf565",
   "metadata": {},
   "outputs": [],
   "source": [
    "np.arange(-15, 5, 4)"
   ]
  },
  {
   "cell_type": "code",
   "execution_count": null,
   "id": "d015f806-cb0e-49f2-a1dc-ee1c65b80e42",
   "metadata": {},
   "outputs": [],
   "source": [
    "np.arange(20).reshape([2, 10])"
   ]
  },
  {
   "cell_type": "code",
   "execution_count": null,
   "id": "86999e44-a0e2-404b-8bcf-57b9ac6460fe",
   "metadata": {},
   "outputs": [],
   "source": [
    "np.arange(20).reshape([4, 5])"
   ]
  },
  {
   "cell_type": "code",
   "execution_count": null,
   "id": "b407a368-4b8c-42b5-9e40-d5bb7ea4d19e",
   "metadata": {},
   "outputs": [],
   "source": [
    "np.arange(20).reshape([2, 2, 5])"
   ]
  },
  {
   "cell_type": "code",
   "execution_count": null,
   "id": "83f7f390-305b-44f6-947d-7ad58714efc8",
   "metadata": {},
   "outputs": [],
   "source": [
    "np.array([10, 2, 5, 7, 9, 15, 25, 30, 35, 40]).reshape([2, 5])"
   ]
  },
  {
   "cell_type": "code",
   "execution_count": null,
   "id": "3335600b-27a6-460c-b74f-cc7557bdf4f6",
   "metadata": {},
   "outputs": [],
   "source": [
    "np.array([10, 2, 5, 7, 9, 15, 25, 30, 35, 40]).reshape([2, 5]).reshape([10, 1])"
   ]
  },
  {
   "cell_type": "code",
   "execution_count": null,
   "id": "0868da56-c462-41df-af3e-018c45a90d2b",
   "metadata": {},
   "outputs": [],
   "source": [
    "np.random.random((4, 3, 3)).flatten()"
   ]
  },
  {
   "cell_type": "code",
   "execution_count": null,
   "id": "e2ba9a48-e883-4f28-9c44-42e89878fd0a",
   "metadata": {},
   "outputs": [],
   "source": [
    "np.array([10, 2, 5, 7, 9, 15, 25, 30, 35, 40]).reshape([3, 5])"
   ]
  }
 ],
 "metadata": {
  "kernelspec": {
   "display_name": "venv",
   "language": "python",
   "name": "python3"
  },
  "language_info": {
   "codemirror_mode": {
    "name": "ipython",
    "version": 3
   },
   "file_extension": ".py",
   "mimetype": "text/x-python",
   "name": "python",
   "nbconvert_exporter": "python",
   "pygments_lexer": "ipython3",
   "version": "3.12.7"
  }
 },
 "nbformat": 4,
 "nbformat_minor": 5
}
