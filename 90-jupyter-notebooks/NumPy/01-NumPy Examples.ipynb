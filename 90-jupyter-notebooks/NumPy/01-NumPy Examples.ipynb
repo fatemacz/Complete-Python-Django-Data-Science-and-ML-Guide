{
 "cells": [
  {
   "cell_type": "code",
   "execution_count": 3,
   "id": "d70f7d3a-1120-4a8c-93e4-20f4236bcbce",
   "metadata": {},
   "outputs": [],
   "source": [
    "# !pip install numpy\n",
    "import numpy as np"
   ]
  },
  {
   "cell_type": "markdown",
   "id": "7e1f0a79-547f-4960-bf16-40d96a4f0e61",
   "metadata": {},
   "source": [
    "### Example 1: Calculating Total Revenue"
   ]
  },
  {
   "cell_type": "code",
   "execution_count": 4,
   "id": "e97f98f3-472d-4221-8a8a-88768a84df1d",
   "metadata": {},
   "outputs": [
    {
     "data": {
      "text/plain": [
       "array([19.99, 29.99, 14.99,  9.99, 24.99])"
      ]
     },
     "execution_count": 4,
     "metadata": {},
     "output_type": "execute_result"
    }
   ],
   "source": [
    "prices = np.array([19.99, 29.99, 14.99, 9.99, 24.99])\n",
    "prices"
   ]
  },
  {
   "cell_type": "code",
   "execution_count": null,
   "id": "8e381e85-8499-479d-8aca-6ddf3c682970",
   "metadata": {},
   "outputs": [],
   "source": [
    "quantities = np.array([10, 5, 8, 12, 3])\n",
    "quantities"
   ]
  },
  {
   "cell_type": "code",
   "execution_count": null,
   "id": "871b4f8b-6d98-48e9-b584-3459187ec2c5",
   "metadata": {},
   "outputs": [],
   "source": [
    "revenue_per_product = prices * quantities\n",
    "revenue_per_product"
   ]
  },
  {
   "cell_type": "code",
   "execution_count": null,
   "id": "7cd0155d-dd13-415b-88d0-2ec34e2e706c",
   "metadata": {},
   "outputs": [],
   "source": [
    "total_revenue = np.sum(revenue_per_product)\n",
    "total_revenue"
   ]
  },
  {
   "cell_type": "markdown",
   "id": "3a14f4f8-405a-4c98-932c-c8aee16efa36",
   "metadata": {},
   "source": [
    "### Example 2: Analyzing Blog Post Stats"
   ]
  },
  {
   "cell_type": "code",
   "execution_count": null,
   "id": "11fd4f64-5750-4995-bdcd-8d847bf2f4de",
   "metadata": {},
   "outputs": [],
   "source": [
    "views = np.array([1000, 500, 800, 1200, 300, 600])\n",
    "views"
   ]
  },
  {
   "cell_type": "code",
   "execution_count": null,
   "id": "5478185b-fd86-4758-8d2e-9414b68c9824",
   "metadata": {},
   "outputs": [],
   "source": [
    "max_views = np.max(views)\n",
    "max_views"
   ]
  },
  {
   "cell_type": "code",
   "execution_count": null,
   "id": "ea9c8006-97d8-46ef-8888-3366227d1953",
   "metadata": {},
   "outputs": [],
   "source": [
    "min_views = np.min(views)\n",
    "min_views"
   ]
  },
  {
   "cell_type": "code",
   "execution_count": null,
   "id": "aa5ad4f4-d54c-4481-91b4-2dcbdb9535e6",
   "metadata": {},
   "outputs": [],
   "source": [
    "average_views = np.round(np.mean(views), 2)\n",
    "average_views"
   ]
  },
  {
   "cell_type": "code",
   "execution_count": null,
   "id": "6bf3b52f-39a0-4bf9-b041-81b62f0d4fd5",
   "metadata": {},
   "outputs": [],
   "source": [
    "total_views = np.sum(views)\n",
    "total_views"
   ]
  },
  {
   "cell_type": "markdown",
   "id": "0aedeb82-6179-4362-b7bf-cd17d4639d04",
   "metadata": {},
   "source": [
    "### Example 3: Splitting Order into Batches"
   ]
  },
  {
   "cell_type": "code",
   "execution_count": null,
   "id": "d397e3fd-2f06-4d97-9aab-6cfe6fc4126a",
   "metadata": {},
   "outputs": [],
   "source": [
    "order_ids = np.array([1001, 1002, 1003, 1004, 1005, 1006, 1007, 1008])\n",
    "order_ids"
   ]
  },
  {
   "cell_type": "code",
   "execution_count": null,
   "id": "61a98769-8f7b-4224-bec7-b4d3660210d4",
   "metadata": {},
   "outputs": [],
   "source": [
    "batches = np.split(order_ids, 4)\n",
    "batches"
   ]
  },
  {
   "cell_type": "code",
   "execution_count": null,
   "id": "661738df-827f-4adf-a180-07390b3bf5f8",
   "metadata": {},
   "outputs": [],
   "source": [
    "for batch in batches:\n",
    "    print(batch)"
   ]
  },
  {
   "cell_type": "markdown",
   "id": "89c65d96-ab70-469b-80e9-b853075e5c3c",
   "metadata": {},
   "source": [
    "### Example 4: Categorizing Product Rating"
   ]
  },
  {
   "cell_type": "code",
   "execution_count": null,
   "id": "0f11764c-f524-4763-8cc0-9642b7483990",
   "metadata": {},
   "outputs": [],
   "source": [
    "ratings = np.array([4.5, 3.2, 2.8, 5.0, 4.1, 3.9, 2.5, 4.7])\n",
    "ratings"
   ]
  },
  {
   "cell_type": "code",
   "execution_count": null,
   "id": "45a2a308-3945-49a7-ae45-ddb3dc4fa54a",
   "metadata": {},
   "outputs": [],
   "source": [
    "positive_ratings = ratings[ratings >= 4.0]\n",
    "positive_ratings"
   ]
  },
  {
   "cell_type": "code",
   "execution_count": null,
   "id": "872531a7-241d-4004-8cbb-8bc148a36b82",
   "metadata": {},
   "outputs": [],
   "source": [
    "negative_ratings = ratings[ratings < 4.0]\n",
    "negative_ratings"
   ]
  },
  {
   "cell_type": "markdown",
   "id": "0af8b3bd-5543-429d-bfa6-b0c26263921d",
   "metadata": {},
   "source": [
    "### Example 5: Calculate Total and Average quantites sold"
   ]
  },
  {
   "cell_type": "code",
   "execution_count": null,
   "id": "9920be32-d587-4b92-a915-64b152e806f1",
   "metadata": {},
   "outputs": [],
   "source": [
    "# Each column is specific product in the order\n",
    "# Each row represents specific order\n",
    "order_quantities = np.array([[5, 3, 2, 7], [10, 6, 3, 9]])\n",
    "order_quantities"
   ]
  },
  {
   "cell_type": "code",
   "execution_count": null,
   "id": "3a56bb9a-8925-41fa-8e6b-7509117e238a",
   "metadata": {},
   "outputs": [],
   "source": [
    "# Quantities of the sales of each product\n",
    "total_quantities_sold = np.sum(order_quantities, axis=0)\n",
    "total_quantities_sold"
   ]
  },
  {
   "cell_type": "code",
   "execution_count": null,
   "id": "49cbcfa7-dd95-4df0-a3ee-22466c0c12a2",
   "metadata": {},
   "outputs": [],
   "source": [
    "# Quantities of the sales in each order\n",
    "total_products_per_order = np.sum(order_quantities, axis=1)\n",
    "total_products_per_order"
   ]
  },
  {
   "cell_type": "code",
   "execution_count": null,
   "id": "298fdaec-323e-41e0-865b-394b67abec7c",
   "metadata": {},
   "outputs": [],
   "source": [
    "# Average quantities per product\n",
    "average_quantities_sold = np.mean(order_quantities, axis=0)\n",
    "average_quantities_sold"
   ]
  },
  {
   "cell_type": "markdown",
   "id": "3319518a-8323-43b6-b83c-8ed0ce183fcc",
   "metadata": {},
   "source": [
    "### Example 6: Calculate Average product Rating and Maximum rating per Category"
   ]
  },
  {
   "cell_type": "code",
   "execution_count": null,
   "id": "3acbf57f-9c19-4bf0-af3f-26bd7ffb3394",
   "metadata": {},
   "outputs": [],
   "source": [
    "# Each row represents specific product\n",
    "# Each product is rated in 4 different categories\n",
    "product_reviews = np.array([[4.5, 3.2, 2.5, 5.0], [4.3, 3.8, 1.0, 4.8], [2.0, 3.6, 4.7, 0.5]])\n",
    "product_reviews"
   ]
  },
  {
   "cell_type": "code",
   "execution_count": null,
   "id": "d3caf6c6-7743-4231-b944-c3de1902e9a0",
   "metadata": {},
   "outputs": [],
   "source": [
    "average_rating = np.mean(product_reviews, axis=1)\n",
    "average_rating"
   ]
  },
  {
   "cell_type": "code",
   "execution_count": null,
   "id": "ed301efc-9c29-4f61-bd27-1abea7895f79",
   "metadata": {},
   "outputs": [],
   "source": [
    "max_rating_per_category = np.max(product_reviews, axis=0)\n",
    "max_rating_per_category"
   ]
  },
  {
   "cell_type": "markdown",
   "id": "e74ed4c1-8dfb-40c2-9cd8-30628218ef64",
   "metadata": {},
   "source": [
    "### Example 7: Generation of the sample stock data"
   ]
  },
  {
   "cell_type": "code",
   "execution_count": null,
   "id": "3c621acd-cf56-426b-a89b-6922cd23c90e",
   "metadata": {},
   "outputs": [],
   "source": [
    "companies = ['Google', 'Microsoft', 'Apple']\n",
    "days = ['Monday, 1 Apr', 'Tuesday, 2 Apr']\n",
    "price_types = ['Open', 'Close', 'High', 'Low']"
   ]
  },
  {
   "cell_type": "code",
   "execution_count": null,
   "id": "1dca4850-486b-4166-8eed-8ab62a44703a",
   "metadata": {},
   "outputs": [],
   "source": [
    "np.random.seed(1)\n",
    "stock_prices = np.round(np.random.random((len(companies), len(days), len(price_types))), 3)\n",
    "stock_prices"
   ]
  },
  {
   "cell_type": "code",
   "execution_count": null,
   "id": "e55f176e-3c4f-405a-ad30-e38cb0435fe4",
   "metadata": {},
   "outputs": [],
   "source": [
    "stock_prices.shape"
   ]
  },
  {
   "cell_type": "code",
   "execution_count": null,
   "id": "c5e014b9-6498-4a1c-a8d2-956c05105423",
   "metadata": {},
   "outputs": [],
   "source": [
    "for index_axis_0, company in enumerate(companies):\n",
    "    print(f\"Stock prices for the {company}:\")\n",
    "    for index_axis_1, day in enumerate(days):\n",
    "        print(f\"Day: {day}\")\n",
    "        for index_axis_2, price_type in enumerate(price_types):\n",
    "            print(f\"{price_type} Price: {stock_prices[index_axis_0, index_axis_1, index_axis_2]}\")\n",
    "        print('')\n",
    "    print('')"
   ]
  }
 ],
 "metadata": {
  "kernelspec": {
   "display_name": "venv",
   "language": "python",
   "name": "python3"
  },
  "language_info": {
   "codemirror_mode": {
    "name": "ipython",
    "version": 3
   },
   "file_extension": ".py",
   "mimetype": "text/x-python",
   "name": "python",
   "nbconvert_exporter": "python",
   "pygments_lexer": "ipython3",
   "version": "3.12.7"
  }
 },
 "nbformat": 4,
 "nbformat_minor": 5
}
